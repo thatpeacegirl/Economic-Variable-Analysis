{
  "nbformat": 4,
  "nbformat_minor": 0,
  "metadata": {
    "colab": {
      "provenance": [],
      "authorship_tag": "ABX9TyPss7ER+nbl49yqcMSNboWX",
      "include_colab_link": true
    },
    "kernelspec": {
      "name": "python3",
      "display_name": "Python 3"
    },
    "language_info": {
      "name": "python"
    }
  },
  "cells": [
    {
      "cell_type": "markdown",
      "metadata": {
        "id": "view-in-github",
        "colab_type": "text"
      },
      "source": [
        "<a href=\"https://colab.research.google.com/github/thatpeacegirl/Economic-Variable-Analysis/blob/main/Economic_Variable_Analysis.ipynb\" target=\"_parent\"><img src=\"https://colab.research.google.com/assets/colab-badge.svg\" alt=\"Open In Colab\"/></a>"
      ]
    },
    {
      "cell_type": "markdown",
      "source": [
        "## Merging Relevant Data"
      ],
      "metadata": {
        "id": "FAkRY2olQcOq"
      }
    },
    {
      "cell_type": "code",
      "execution_count": null,
      "metadata": {
        "id": "AfYe3T_c3ALP"
      },
      "outputs": [],
      "source": [
        "import pandas as pd"
      ]
    },
    {
      "cell_type": "code",
      "source": [
        "inflation_df = pd.read_csv(\"/content/Nigeria_Inflation_Rate_Data.csv\")\n",
        "m1_money_df = pd.read_csv(\"/content/Nigeria_M1_Data.csv\")\n",
        "stock_exchange_df = pd.read_csv(\"/content/Nigeria_Stock_Exchange_Data.csv\")\n",
        "exchange_rate_df = pd.read_csv(\"/content/Nigeria_USD_Exchange_Rate.csv\")"
      ],
      "metadata": {
        "id": "fu13CW903fPj"
      },
      "execution_count": null,
      "outputs": []
    },
    {
      "cell_type": "code",
      "source": [
        "inflation_df.columns\n",
        "m1_money_df.columns\n",
        "stock_exchange_df.columns\n",
        "exchange_rate_df.columns"
      ],
      "metadata": {
        "colab": {
          "base_uri": "https://localhost:8080/"
        },
        "id": "EdrrtaTA35QN",
        "outputId": "2301d5b2-0c4a-443c-e6db-28c1dd95c192"
      },
      "execution_count": null,
      "outputs": [
        {
          "output_type": "execute_result",
          "data": {
            "text/plain": [
              "Index(['Date', 'Naira to USD Exchange Rate', 'Change %',\n",
              "       'Exchange Rate Growth'],\n",
              "      dtype='object')"
            ]
          },
          "metadata": {},
          "execution_count": 3
        }
      ]
    },
    {
      "cell_type": "code",
      "source": [
        "inflation_df.drop(columns=['Year', 'Month', 'Inflation Rate Percent'], inplace=True)\n",
        "m1_money_df.drop(columns=['Country', 'Month', 'Year'], inplace=True)\n",
        "stock_exchange_df.drop(columns=['Change %'], inplace=True)\n",
        "exchange_rate_df.drop(columns=['Change %'], inplace=True)"
      ],
      "metadata": {
        "id": "l_oefEu538ZS"
      },
      "execution_count": null,
      "outputs": []
    },
    {
      "cell_type": "code",
      "source": [
        "print(inflation_df.columns)\n",
        "print(m1_money_df.columns)\n",
        "print(stock_exchange_df.columns)\n",
        "print(exchange_rate_df.columns)"
      ],
      "metadata": {
        "colab": {
          "base_uri": "https://localhost:8080/"
        },
        "id": "JBRskq9s5OsZ",
        "outputId": "8a8b4ad9-4c88-46c8-cbb9-2d861c2cc7f6"
      },
      "execution_count": null,
      "outputs": [
        {
          "output_type": "stream",
          "name": "stdout",
          "text": [
            "Index(['Date', 'Inflation Rate Per Month', 'Inflation Rate Growth'], dtype='object')\n",
            "Index(['Date', 'M1', 'M1 Growth Rate'], dtype='object')\n",
            "Index(['Date', 'Stock Price', 'Stock Price Growth'], dtype='object')\n",
            "Index(['Date', 'Naira to USD Exchange Rate', 'Exchange Rate Growth'], dtype='object')\n"
          ]
        }
      ]
    },
    {
      "cell_type": "code",
      "source": [
        "inflation_df.head()\n",
        "m1_money_df.head()\n",
        "stock_exchange_df.head()\n",
        "exchange_rate_df.head()"
      ],
      "metadata": {
        "colab": {
          "base_uri": "https://localhost:8080/",
          "height": 206
        },
        "id": "kdVi79MX4SxJ",
        "outputId": "2801f936-3c50-4e72-81c9-badd8eac2d0d"
      },
      "execution_count": null,
      "outputs": [
        {
          "output_type": "execute_result",
          "data": {
            "text/plain": [
              "         Date Naira to USD Exchange Rate  Exchange Rate Growth\n",
              "0  01/02/2004                      136.4             -0.000044\n",
              "1  01/03/2004                        132             -0.000323\n",
              "2  01/04/2004                    133.125              0.000085\n",
              "3  01/05/2004                      133.4              0.000021\n",
              "4  01/06/2004                     132.75             -0.000049"
            ],
            "text/html": [
              "\n",
              "  <div id=\"df-a4c4f136-3bc4-4468-bd63-6f305a1b26e6\" class=\"colab-df-container\">\n",
              "    <div>\n",
              "<style scoped>\n",
              "    .dataframe tbody tr th:only-of-type {\n",
              "        vertical-align: middle;\n",
              "    }\n",
              "\n",
              "    .dataframe tbody tr th {\n",
              "        vertical-align: top;\n",
              "    }\n",
              "\n",
              "    .dataframe thead th {\n",
              "        text-align: right;\n",
              "    }\n",
              "</style>\n",
              "<table border=\"1\" class=\"dataframe\">\n",
              "  <thead>\n",
              "    <tr style=\"text-align: right;\">\n",
              "      <th></th>\n",
              "      <th>Date</th>\n",
              "      <th>Naira to USD Exchange Rate</th>\n",
              "      <th>Exchange Rate Growth</th>\n",
              "    </tr>\n",
              "  </thead>\n",
              "  <tbody>\n",
              "    <tr>\n",
              "      <th>0</th>\n",
              "      <td>01/02/2004</td>\n",
              "      <td>136.4</td>\n",
              "      <td>-0.000044</td>\n",
              "    </tr>\n",
              "    <tr>\n",
              "      <th>1</th>\n",
              "      <td>01/03/2004</td>\n",
              "      <td>132</td>\n",
              "      <td>-0.000323</td>\n",
              "    </tr>\n",
              "    <tr>\n",
              "      <th>2</th>\n",
              "      <td>01/04/2004</td>\n",
              "      <td>133.125</td>\n",
              "      <td>0.000085</td>\n",
              "    </tr>\n",
              "    <tr>\n",
              "      <th>3</th>\n",
              "      <td>01/05/2004</td>\n",
              "      <td>133.4</td>\n",
              "      <td>0.000021</td>\n",
              "    </tr>\n",
              "    <tr>\n",
              "      <th>4</th>\n",
              "      <td>01/06/2004</td>\n",
              "      <td>132.75</td>\n",
              "      <td>-0.000049</td>\n",
              "    </tr>\n",
              "  </tbody>\n",
              "</table>\n",
              "</div>\n",
              "    <div class=\"colab-df-buttons\">\n",
              "\n",
              "  <div class=\"colab-df-container\">\n",
              "    <button class=\"colab-df-convert\" onclick=\"convertToInteractive('df-a4c4f136-3bc4-4468-bd63-6f305a1b26e6')\"\n",
              "            title=\"Convert this dataframe to an interactive table.\"\n",
              "            style=\"display:none;\">\n",
              "\n",
              "  <svg xmlns=\"http://www.w3.org/2000/svg\" height=\"24px\" viewBox=\"0 -960 960 960\">\n",
              "    <path d=\"M120-120v-720h720v720H120Zm60-500h600v-160H180v160Zm220 220h160v-160H400v160Zm0 220h160v-160H400v160ZM180-400h160v-160H180v160Zm440 0h160v-160H620v160ZM180-180h160v-160H180v160Zm440 0h160v-160H620v160Z\"/>\n",
              "  </svg>\n",
              "    </button>\n",
              "\n",
              "  <style>\n",
              "    .colab-df-container {\n",
              "      display:flex;\n",
              "      gap: 12px;\n",
              "    }\n",
              "\n",
              "    .colab-df-convert {\n",
              "      background-color: #E8F0FE;\n",
              "      border: none;\n",
              "      border-radius: 50%;\n",
              "      cursor: pointer;\n",
              "      display: none;\n",
              "      fill: #1967D2;\n",
              "      height: 32px;\n",
              "      padding: 0 0 0 0;\n",
              "      width: 32px;\n",
              "    }\n",
              "\n",
              "    .colab-df-convert:hover {\n",
              "      background-color: #E2EBFA;\n",
              "      box-shadow: 0px 1px 2px rgba(60, 64, 67, 0.3), 0px 1px 3px 1px rgba(60, 64, 67, 0.15);\n",
              "      fill: #174EA6;\n",
              "    }\n",
              "\n",
              "    .colab-df-buttons div {\n",
              "      margin-bottom: 4px;\n",
              "    }\n",
              "\n",
              "    [theme=dark] .colab-df-convert {\n",
              "      background-color: #3B4455;\n",
              "      fill: #D2E3FC;\n",
              "    }\n",
              "\n",
              "    [theme=dark] .colab-df-convert:hover {\n",
              "      background-color: #434B5C;\n",
              "      box-shadow: 0px 1px 3px 1px rgba(0, 0, 0, 0.15);\n",
              "      filter: drop-shadow(0px 1px 2px rgba(0, 0, 0, 0.3));\n",
              "      fill: #FFFFFF;\n",
              "    }\n",
              "  </style>\n",
              "\n",
              "    <script>\n",
              "      const buttonEl =\n",
              "        document.querySelector('#df-a4c4f136-3bc4-4468-bd63-6f305a1b26e6 button.colab-df-convert');\n",
              "      buttonEl.style.display =\n",
              "        google.colab.kernel.accessAllowed ? 'block' : 'none';\n",
              "\n",
              "      async function convertToInteractive(key) {\n",
              "        const element = document.querySelector('#df-a4c4f136-3bc4-4468-bd63-6f305a1b26e6');\n",
              "        const dataTable =\n",
              "          await google.colab.kernel.invokeFunction('convertToInteractive',\n",
              "                                                    [key], {});\n",
              "        if (!dataTable) return;\n",
              "\n",
              "        const docLinkHtml = 'Like what you see? Visit the ' +\n",
              "          '<a target=\"_blank\" href=https://colab.research.google.com/notebooks/data_table.ipynb>data table notebook</a>'\n",
              "          + ' to learn more about interactive tables.';\n",
              "        element.innerHTML = '';\n",
              "        dataTable['output_type'] = 'display_data';\n",
              "        await google.colab.output.renderOutput(dataTable, element);\n",
              "        const docLink = document.createElement('div');\n",
              "        docLink.innerHTML = docLinkHtml;\n",
              "        element.appendChild(docLink);\n",
              "      }\n",
              "    </script>\n",
              "  </div>\n",
              "\n",
              "\n",
              "<div id=\"df-1039086f-cf9a-4db9-84e2-c0e74f3340af\">\n",
              "  <button class=\"colab-df-quickchart\" onclick=\"quickchart('df-1039086f-cf9a-4db9-84e2-c0e74f3340af')\"\n",
              "            title=\"Suggest charts\"\n",
              "            style=\"display:none;\">\n",
              "\n",
              "<svg xmlns=\"http://www.w3.org/2000/svg\" height=\"24px\"viewBox=\"0 0 24 24\"\n",
              "     width=\"24px\">\n",
              "    <g>\n",
              "        <path d=\"M19 3H5c-1.1 0-2 .9-2 2v14c0 1.1.9 2 2 2h14c1.1 0 2-.9 2-2V5c0-1.1-.9-2-2-2zM9 17H7v-7h2v7zm4 0h-2V7h2v10zm4 0h-2v-4h2v4z\"/>\n",
              "    </g>\n",
              "</svg>\n",
              "  </button>\n",
              "\n",
              "<style>\n",
              "  .colab-df-quickchart {\n",
              "      --bg-color: #E8F0FE;\n",
              "      --fill-color: #1967D2;\n",
              "      --hover-bg-color: #E2EBFA;\n",
              "      --hover-fill-color: #174EA6;\n",
              "      --disabled-fill-color: #AAA;\n",
              "      --disabled-bg-color: #DDD;\n",
              "  }\n",
              "\n",
              "  [theme=dark] .colab-df-quickchart {\n",
              "      --bg-color: #3B4455;\n",
              "      --fill-color: #D2E3FC;\n",
              "      --hover-bg-color: #434B5C;\n",
              "      --hover-fill-color: #FFFFFF;\n",
              "      --disabled-bg-color: #3B4455;\n",
              "      --disabled-fill-color: #666;\n",
              "  }\n",
              "\n",
              "  .colab-df-quickchart {\n",
              "    background-color: var(--bg-color);\n",
              "    border: none;\n",
              "    border-radius: 50%;\n",
              "    cursor: pointer;\n",
              "    display: none;\n",
              "    fill: var(--fill-color);\n",
              "    height: 32px;\n",
              "    padding: 0;\n",
              "    width: 32px;\n",
              "  }\n",
              "\n",
              "  .colab-df-quickchart:hover {\n",
              "    background-color: var(--hover-bg-color);\n",
              "    box-shadow: 0 1px 2px rgba(60, 64, 67, 0.3), 0 1px 3px 1px rgba(60, 64, 67, 0.15);\n",
              "    fill: var(--button-hover-fill-color);\n",
              "  }\n",
              "\n",
              "  .colab-df-quickchart-complete:disabled,\n",
              "  .colab-df-quickchart-complete:disabled:hover {\n",
              "    background-color: var(--disabled-bg-color);\n",
              "    fill: var(--disabled-fill-color);\n",
              "    box-shadow: none;\n",
              "  }\n",
              "\n",
              "  .colab-df-spinner {\n",
              "    border: 2px solid var(--fill-color);\n",
              "    border-color: transparent;\n",
              "    border-bottom-color: var(--fill-color);\n",
              "    animation:\n",
              "      spin 1s steps(1) infinite;\n",
              "  }\n",
              "\n",
              "  @keyframes spin {\n",
              "    0% {\n",
              "      border-color: transparent;\n",
              "      border-bottom-color: var(--fill-color);\n",
              "      border-left-color: var(--fill-color);\n",
              "    }\n",
              "    20% {\n",
              "      border-color: transparent;\n",
              "      border-left-color: var(--fill-color);\n",
              "      border-top-color: var(--fill-color);\n",
              "    }\n",
              "    30% {\n",
              "      border-color: transparent;\n",
              "      border-left-color: var(--fill-color);\n",
              "      border-top-color: var(--fill-color);\n",
              "      border-right-color: var(--fill-color);\n",
              "    }\n",
              "    40% {\n",
              "      border-color: transparent;\n",
              "      border-right-color: var(--fill-color);\n",
              "      border-top-color: var(--fill-color);\n",
              "    }\n",
              "    60% {\n",
              "      border-color: transparent;\n",
              "      border-right-color: var(--fill-color);\n",
              "    }\n",
              "    80% {\n",
              "      border-color: transparent;\n",
              "      border-right-color: var(--fill-color);\n",
              "      border-bottom-color: var(--fill-color);\n",
              "    }\n",
              "    90% {\n",
              "      border-color: transparent;\n",
              "      border-bottom-color: var(--fill-color);\n",
              "    }\n",
              "  }\n",
              "</style>\n",
              "\n",
              "  <script>\n",
              "    async function quickchart(key) {\n",
              "      const quickchartButtonEl =\n",
              "        document.querySelector('#' + key + ' button');\n",
              "      quickchartButtonEl.disabled = true;  // To prevent multiple clicks.\n",
              "      quickchartButtonEl.classList.add('colab-df-spinner');\n",
              "      try {\n",
              "        const charts = await google.colab.kernel.invokeFunction(\n",
              "            'suggestCharts', [key], {});\n",
              "      } catch (error) {\n",
              "        console.error('Error during call to suggestCharts:', error);\n",
              "      }\n",
              "      quickchartButtonEl.classList.remove('colab-df-spinner');\n",
              "      quickchartButtonEl.classList.add('colab-df-quickchart-complete');\n",
              "    }\n",
              "    (() => {\n",
              "      let quickchartButtonEl =\n",
              "        document.querySelector('#df-1039086f-cf9a-4db9-84e2-c0e74f3340af button');\n",
              "      quickchartButtonEl.style.display =\n",
              "        google.colab.kernel.accessAllowed ? 'block' : 'none';\n",
              "    })();\n",
              "  </script>\n",
              "</div>\n",
              "\n",
              "    </div>\n",
              "  </div>\n"
            ],
            "application/vnd.google.colaboratory.intrinsic+json": {
              "type": "dataframe",
              "variable_name": "exchange_rate_df",
              "summary": "{\n  \"name\": \"exchange_rate_df\",\n  \"rows\": 244,\n  \"fields\": [\n    {\n      \"column\": \"Date\",\n      \"properties\": {\n        \"dtype\": \"object\",\n        \"num_unique_values\": 244,\n        \"samples\": [\n          \"01/02/2006\",\n          \"01/08/2004\",\n          \"01/11/2016\"\n        ],\n        \"semantic_type\": \"\",\n        \"description\": \"\"\n      }\n    },\n    {\n      \"column\": \"Naira to USD Exchange Rate\",\n      \"properties\": {\n        \"dtype\": \"string\",\n        \"num_unique_values\": 190,\n        \"samples\": [\n          \"459.97\",\n          \"773\",\n          \"182.9\"\n        ],\n        \"semantic_type\": \"\",\n        \"description\": \"\"\n      }\n    },\n    {\n      \"column\": \"Exchange Rate Growth\",\n      \"properties\": {\n        \"dtype\": \"number\",\n        \"std\": 0.000641269685561531,\n        \"min\": -0.00194,\n        \"max\": 0.006474,\n        \"num_unique_values\": 146,\n        \"samples\": [\n          5.4e-05,\n          0.000782,\n          -3.1e-05\n        ],\n        \"semantic_type\": \"\",\n        \"description\": \"\"\n      }\n    }\n  ]\n}"
            }
          },
          "metadata": {},
          "execution_count": 6
        }
      ]
    },
    {
      "cell_type": "code",
      "source": [
        "inflation_df.info()"
      ],
      "metadata": {
        "colab": {
          "base_uri": "https://localhost:8080/"
        },
        "id": "pKXeLs5I7_k3",
        "outputId": "ca4ede22-0bc7-4c21-9540-f494a8b9fe05"
      },
      "execution_count": null,
      "outputs": [
        {
          "output_type": "stream",
          "name": "stdout",
          "text": [
            "<class 'pandas.core.frame.DataFrame'>\n",
            "RangeIndex: 244 entries, 0 to 243\n",
            "Data columns (total 3 columns):\n",
            " #   Column                    Non-Null Count  Dtype  \n",
            "---  ------                    --------------  -----  \n",
            " 0   Date                      244 non-null    object \n",
            " 1   Inflation Rate Per Month  244 non-null    float64\n",
            " 2   Inflation Rate Growth     244 non-null    float64\n",
            "dtypes: float64(2), object(1)\n",
            "memory usage: 5.8+ KB\n"
          ]
        }
      ]
    },
    {
      "cell_type": "code",
      "source": [
        "# convert date column to datetime object\n",
        "inflation_df['Date'] = pd.to_datetime(inflation_df['Date'], format='%d/%m/%Y')\n",
        "m1_money_df['Date'] = pd.to_datetime(m1_money_df['Date'], format='%d/%m/%Y')\n",
        "stock_exchange_df['Date'] = pd.to_datetime(stock_exchange_df['Date'], format='%d/%m/%Y')\n",
        "exchange_rate_df['Date'] = pd.to_datetime(exchange_rate_df['Date'], format='%d/%m/%Y')"
      ],
      "metadata": {
        "id": "nPFqPYqB8Mfh"
      },
      "execution_count": null,
      "outputs": []
    },
    {
      "cell_type": "code",
      "source": [
        "inflation_df.info()\n",
        "m1_money_df.info()\n",
        "stock_exchange_df.info()\n",
        "exchange_rate_df.info()"
      ],
      "metadata": {
        "colab": {
          "base_uri": "https://localhost:8080/"
        },
        "id": "4l77LK7o86P7",
        "outputId": "43276f23-9f03-46a6-81cb-e2f9e482c66b"
      },
      "execution_count": null,
      "outputs": [
        {
          "output_type": "stream",
          "name": "stdout",
          "text": [
            "<class 'pandas.core.frame.DataFrame'>\n",
            "RangeIndex: 244 entries, 0 to 243\n",
            "Data columns (total 3 columns):\n",
            " #   Column                    Non-Null Count  Dtype         \n",
            "---  ------                    --------------  -----         \n",
            " 0   Date                      244 non-null    datetime64[ns]\n",
            " 1   Inflation Rate Per Month  244 non-null    float64       \n",
            " 2   Inflation Rate Growth     244 non-null    float64       \n",
            "dtypes: datetime64[ns](1), float64(2)\n",
            "memory usage: 5.8 KB\n",
            "<class 'pandas.core.frame.DataFrame'>\n",
            "RangeIndex: 244 entries, 0 to 243\n",
            "Data columns (total 3 columns):\n",
            " #   Column          Non-Null Count  Dtype         \n",
            "---  ------          --------------  -----         \n",
            " 0   Date            244 non-null    datetime64[ns]\n",
            " 1   M1              244 non-null    float64       \n",
            " 2   M1 Growth Rate  244 non-null    float64       \n",
            "dtypes: datetime64[ns](1), float64(2)\n",
            "memory usage: 5.8 KB\n",
            "<class 'pandas.core.frame.DataFrame'>\n",
            "RangeIndex: 244 entries, 0 to 243\n",
            "Data columns (total 3 columns):\n",
            " #   Column              Non-Null Count  Dtype         \n",
            "---  ------              --------------  -----         \n",
            " 0   Date                244 non-null    datetime64[ns]\n",
            " 1   Stock Price         244 non-null    object        \n",
            " 2   Stock Price Growth  244 non-null    float64       \n",
            "dtypes: datetime64[ns](1), float64(1), object(1)\n",
            "memory usage: 5.8+ KB\n",
            "<class 'pandas.core.frame.DataFrame'>\n",
            "RangeIndex: 244 entries, 0 to 243\n",
            "Data columns (total 3 columns):\n",
            " #   Column                      Non-Null Count  Dtype         \n",
            "---  ------                      --------------  -----         \n",
            " 0   Date                        244 non-null    datetime64[ns]\n",
            " 1   Naira to USD Exchange Rate  244 non-null    object        \n",
            " 2   Exchange Rate Growth        244 non-null    float64       \n",
            "dtypes: datetime64[ns](1), float64(1), object(1)\n",
            "memory usage: 5.8+ KB\n"
          ]
        }
      ]
    },
    {
      "cell_type": "code",
      "source": [
        "# Merge dataframes on 'Date' column\n",
        "nigeria_eco_data = inflation_df.merge(m1_money_df, on='Date', how='inner')\n",
        "nigeria_eco_data = nigeria_eco_data.merge(stock_exchange_df, on='Date', how='inner')\n",
        "nigeria_eco_data = nigeria_eco_data.merge(exchange_rate_df, on='Date', how='inner')"
      ],
      "metadata": {
        "id": "RqZ88cMs5oO3"
      },
      "execution_count": null,
      "outputs": []
    },
    {
      "cell_type": "code",
      "source": [
        "nigeria_eco_data.head()"
      ],
      "metadata": {
        "colab": {
          "base_uri": "https://localhost:8080/",
          "height": 328
        },
        "id": "1trePwBK9fAZ",
        "outputId": "c8f6fedd-06c9-4b8d-d5bf-49e9221ced14"
      },
      "execution_count": null,
      "outputs": [
        {
          "output_type": "execute_result",
          "data": {
            "text/plain": [
              "        Date  Inflation Rate Per Month  Inflation Rate Growth         M1  \\\n",
              "0 2004-02-01                     0.248               0.107143  1188048.7   \n",
              "1 2004-03-01                     0.225              -0.092742  1201540.2   \n",
              "2 2004-04-01                     0.175              -0.222222  1178469.0   \n",
              "3 2004-05-01                     0.198               0.131429  1187078.6   \n",
              "4 2004-06-01                     0.141              -0.287879  1214834.9   \n",
              "\n",
              "   M1 Growth Rate Stock Price  Stock Price Growth Naira to USD Exchange Rate  \\\n",
              "0        0.059599   25,169.20            0.001098                      136.4   \n",
              "1        0.011356   22,800.41           -0.000941                        132   \n",
              "2       -0.019201   25,792.97            0.001313                    133.125   \n",
              "3        0.007306   27,730.84            0.000751                      133.4   \n",
              "4        0.023382   28,887.41            0.000417                     132.75   \n",
              "\n",
              "   Exchange Rate Growth  \n",
              "0             -0.000044  \n",
              "1             -0.000323  \n",
              "2              0.000085  \n",
              "3              0.000021  \n",
              "4             -0.000049  "
            ],
            "text/html": [
              "\n",
              "  <div id=\"df-f45d25b9-7df8-44c3-9a1f-e578dbbeef37\" class=\"colab-df-container\">\n",
              "    <div>\n",
              "<style scoped>\n",
              "    .dataframe tbody tr th:only-of-type {\n",
              "        vertical-align: middle;\n",
              "    }\n",
              "\n",
              "    .dataframe tbody tr th {\n",
              "        vertical-align: top;\n",
              "    }\n",
              "\n",
              "    .dataframe thead th {\n",
              "        text-align: right;\n",
              "    }\n",
              "</style>\n",
              "<table border=\"1\" class=\"dataframe\">\n",
              "  <thead>\n",
              "    <tr style=\"text-align: right;\">\n",
              "      <th></th>\n",
              "      <th>Date</th>\n",
              "      <th>Inflation Rate Per Month</th>\n",
              "      <th>Inflation Rate Growth</th>\n",
              "      <th>M1</th>\n",
              "      <th>M1 Growth Rate</th>\n",
              "      <th>Stock Price</th>\n",
              "      <th>Stock Price Growth</th>\n",
              "      <th>Naira to USD Exchange Rate</th>\n",
              "      <th>Exchange Rate Growth</th>\n",
              "    </tr>\n",
              "  </thead>\n",
              "  <tbody>\n",
              "    <tr>\n",
              "      <th>0</th>\n",
              "      <td>2004-02-01</td>\n",
              "      <td>0.248</td>\n",
              "      <td>0.107143</td>\n",
              "      <td>1188048.7</td>\n",
              "      <td>0.059599</td>\n",
              "      <td>25,169.20</td>\n",
              "      <td>0.001098</td>\n",
              "      <td>136.4</td>\n",
              "      <td>-0.000044</td>\n",
              "    </tr>\n",
              "    <tr>\n",
              "      <th>1</th>\n",
              "      <td>2004-03-01</td>\n",
              "      <td>0.225</td>\n",
              "      <td>-0.092742</td>\n",
              "      <td>1201540.2</td>\n",
              "      <td>0.011356</td>\n",
              "      <td>22,800.41</td>\n",
              "      <td>-0.000941</td>\n",
              "      <td>132</td>\n",
              "      <td>-0.000323</td>\n",
              "    </tr>\n",
              "    <tr>\n",
              "      <th>2</th>\n",
              "      <td>2004-04-01</td>\n",
              "      <td>0.175</td>\n",
              "      <td>-0.222222</td>\n",
              "      <td>1178469.0</td>\n",
              "      <td>-0.019201</td>\n",
              "      <td>25,792.97</td>\n",
              "      <td>0.001313</td>\n",
              "      <td>133.125</td>\n",
              "      <td>0.000085</td>\n",
              "    </tr>\n",
              "    <tr>\n",
              "      <th>3</th>\n",
              "      <td>2004-05-01</td>\n",
              "      <td>0.198</td>\n",
              "      <td>0.131429</td>\n",
              "      <td>1187078.6</td>\n",
              "      <td>0.007306</td>\n",
              "      <td>27,730.84</td>\n",
              "      <td>0.000751</td>\n",
              "      <td>133.4</td>\n",
              "      <td>0.000021</td>\n",
              "    </tr>\n",
              "    <tr>\n",
              "      <th>4</th>\n",
              "      <td>2004-06-01</td>\n",
              "      <td>0.141</td>\n",
              "      <td>-0.287879</td>\n",
              "      <td>1214834.9</td>\n",
              "      <td>0.023382</td>\n",
              "      <td>28,887.41</td>\n",
              "      <td>0.000417</td>\n",
              "      <td>132.75</td>\n",
              "      <td>-0.000049</td>\n",
              "    </tr>\n",
              "  </tbody>\n",
              "</table>\n",
              "</div>\n",
              "    <div class=\"colab-df-buttons\">\n",
              "\n",
              "  <div class=\"colab-df-container\">\n",
              "    <button class=\"colab-df-convert\" onclick=\"convertToInteractive('df-f45d25b9-7df8-44c3-9a1f-e578dbbeef37')\"\n",
              "            title=\"Convert this dataframe to an interactive table.\"\n",
              "            style=\"display:none;\">\n",
              "\n",
              "  <svg xmlns=\"http://www.w3.org/2000/svg\" height=\"24px\" viewBox=\"0 -960 960 960\">\n",
              "    <path d=\"M120-120v-720h720v720H120Zm60-500h600v-160H180v160Zm220 220h160v-160H400v160Zm0 220h160v-160H400v160ZM180-400h160v-160H180v160Zm440 0h160v-160H620v160ZM180-180h160v-160H180v160Zm440 0h160v-160H620v160Z\"/>\n",
              "  </svg>\n",
              "    </button>\n",
              "\n",
              "  <style>\n",
              "    .colab-df-container {\n",
              "      display:flex;\n",
              "      gap: 12px;\n",
              "    }\n",
              "\n",
              "    .colab-df-convert {\n",
              "      background-color: #E8F0FE;\n",
              "      border: none;\n",
              "      border-radius: 50%;\n",
              "      cursor: pointer;\n",
              "      display: none;\n",
              "      fill: #1967D2;\n",
              "      height: 32px;\n",
              "      padding: 0 0 0 0;\n",
              "      width: 32px;\n",
              "    }\n",
              "\n",
              "    .colab-df-convert:hover {\n",
              "      background-color: #E2EBFA;\n",
              "      box-shadow: 0px 1px 2px rgba(60, 64, 67, 0.3), 0px 1px 3px 1px rgba(60, 64, 67, 0.15);\n",
              "      fill: #174EA6;\n",
              "    }\n",
              "\n",
              "    .colab-df-buttons div {\n",
              "      margin-bottom: 4px;\n",
              "    }\n",
              "\n",
              "    [theme=dark] .colab-df-convert {\n",
              "      background-color: #3B4455;\n",
              "      fill: #D2E3FC;\n",
              "    }\n",
              "\n",
              "    [theme=dark] .colab-df-convert:hover {\n",
              "      background-color: #434B5C;\n",
              "      box-shadow: 0px 1px 3px 1px rgba(0, 0, 0, 0.15);\n",
              "      filter: drop-shadow(0px 1px 2px rgba(0, 0, 0, 0.3));\n",
              "      fill: #FFFFFF;\n",
              "    }\n",
              "  </style>\n",
              "\n",
              "    <script>\n",
              "      const buttonEl =\n",
              "        document.querySelector('#df-f45d25b9-7df8-44c3-9a1f-e578dbbeef37 button.colab-df-convert');\n",
              "      buttonEl.style.display =\n",
              "        google.colab.kernel.accessAllowed ? 'block' : 'none';\n",
              "\n",
              "      async function convertToInteractive(key) {\n",
              "        const element = document.querySelector('#df-f45d25b9-7df8-44c3-9a1f-e578dbbeef37');\n",
              "        const dataTable =\n",
              "          await google.colab.kernel.invokeFunction('convertToInteractive',\n",
              "                                                    [key], {});\n",
              "        if (!dataTable) return;\n",
              "\n",
              "        const docLinkHtml = 'Like what you see? Visit the ' +\n",
              "          '<a target=\"_blank\" href=https://colab.research.google.com/notebooks/data_table.ipynb>data table notebook</a>'\n",
              "          + ' to learn more about interactive tables.';\n",
              "        element.innerHTML = '';\n",
              "        dataTable['output_type'] = 'display_data';\n",
              "        await google.colab.output.renderOutput(dataTable, element);\n",
              "        const docLink = document.createElement('div');\n",
              "        docLink.innerHTML = docLinkHtml;\n",
              "        element.appendChild(docLink);\n",
              "      }\n",
              "    </script>\n",
              "  </div>\n",
              "\n",
              "\n",
              "<div id=\"df-ded7bd6f-8411-443c-8954-23cfb110edef\">\n",
              "  <button class=\"colab-df-quickchart\" onclick=\"quickchart('df-ded7bd6f-8411-443c-8954-23cfb110edef')\"\n",
              "            title=\"Suggest charts\"\n",
              "            style=\"display:none;\">\n",
              "\n",
              "<svg xmlns=\"http://www.w3.org/2000/svg\" height=\"24px\"viewBox=\"0 0 24 24\"\n",
              "     width=\"24px\">\n",
              "    <g>\n",
              "        <path d=\"M19 3H5c-1.1 0-2 .9-2 2v14c0 1.1.9 2 2 2h14c1.1 0 2-.9 2-2V5c0-1.1-.9-2-2-2zM9 17H7v-7h2v7zm4 0h-2V7h2v10zm4 0h-2v-4h2v4z\"/>\n",
              "    </g>\n",
              "</svg>\n",
              "  </button>\n",
              "\n",
              "<style>\n",
              "  .colab-df-quickchart {\n",
              "      --bg-color: #E8F0FE;\n",
              "      --fill-color: #1967D2;\n",
              "      --hover-bg-color: #E2EBFA;\n",
              "      --hover-fill-color: #174EA6;\n",
              "      --disabled-fill-color: #AAA;\n",
              "      --disabled-bg-color: #DDD;\n",
              "  }\n",
              "\n",
              "  [theme=dark] .colab-df-quickchart {\n",
              "      --bg-color: #3B4455;\n",
              "      --fill-color: #D2E3FC;\n",
              "      --hover-bg-color: #434B5C;\n",
              "      --hover-fill-color: #FFFFFF;\n",
              "      --disabled-bg-color: #3B4455;\n",
              "      --disabled-fill-color: #666;\n",
              "  }\n",
              "\n",
              "  .colab-df-quickchart {\n",
              "    background-color: var(--bg-color);\n",
              "    border: none;\n",
              "    border-radius: 50%;\n",
              "    cursor: pointer;\n",
              "    display: none;\n",
              "    fill: var(--fill-color);\n",
              "    height: 32px;\n",
              "    padding: 0;\n",
              "    width: 32px;\n",
              "  }\n",
              "\n",
              "  .colab-df-quickchart:hover {\n",
              "    background-color: var(--hover-bg-color);\n",
              "    box-shadow: 0 1px 2px rgba(60, 64, 67, 0.3), 0 1px 3px 1px rgba(60, 64, 67, 0.15);\n",
              "    fill: var(--button-hover-fill-color);\n",
              "  }\n",
              "\n",
              "  .colab-df-quickchart-complete:disabled,\n",
              "  .colab-df-quickchart-complete:disabled:hover {\n",
              "    background-color: var(--disabled-bg-color);\n",
              "    fill: var(--disabled-fill-color);\n",
              "    box-shadow: none;\n",
              "  }\n",
              "\n",
              "  .colab-df-spinner {\n",
              "    border: 2px solid var(--fill-color);\n",
              "    border-color: transparent;\n",
              "    border-bottom-color: var(--fill-color);\n",
              "    animation:\n",
              "      spin 1s steps(1) infinite;\n",
              "  }\n",
              "\n",
              "  @keyframes spin {\n",
              "    0% {\n",
              "      border-color: transparent;\n",
              "      border-bottom-color: var(--fill-color);\n",
              "      border-left-color: var(--fill-color);\n",
              "    }\n",
              "    20% {\n",
              "      border-color: transparent;\n",
              "      border-left-color: var(--fill-color);\n",
              "      border-top-color: var(--fill-color);\n",
              "    }\n",
              "    30% {\n",
              "      border-color: transparent;\n",
              "      border-left-color: var(--fill-color);\n",
              "      border-top-color: var(--fill-color);\n",
              "      border-right-color: var(--fill-color);\n",
              "    }\n",
              "    40% {\n",
              "      border-color: transparent;\n",
              "      border-right-color: var(--fill-color);\n",
              "      border-top-color: var(--fill-color);\n",
              "    }\n",
              "    60% {\n",
              "      border-color: transparent;\n",
              "      border-right-color: var(--fill-color);\n",
              "    }\n",
              "    80% {\n",
              "      border-color: transparent;\n",
              "      border-right-color: var(--fill-color);\n",
              "      border-bottom-color: var(--fill-color);\n",
              "    }\n",
              "    90% {\n",
              "      border-color: transparent;\n",
              "      border-bottom-color: var(--fill-color);\n",
              "    }\n",
              "  }\n",
              "</style>\n",
              "\n",
              "  <script>\n",
              "    async function quickchart(key) {\n",
              "      const quickchartButtonEl =\n",
              "        document.querySelector('#' + key + ' button');\n",
              "      quickchartButtonEl.disabled = true;  // To prevent multiple clicks.\n",
              "      quickchartButtonEl.classList.add('colab-df-spinner');\n",
              "      try {\n",
              "        const charts = await google.colab.kernel.invokeFunction(\n",
              "            'suggestCharts', [key], {});\n",
              "      } catch (error) {\n",
              "        console.error('Error during call to suggestCharts:', error);\n",
              "      }\n",
              "      quickchartButtonEl.classList.remove('colab-df-spinner');\n",
              "      quickchartButtonEl.classList.add('colab-df-quickchart-complete');\n",
              "    }\n",
              "    (() => {\n",
              "      let quickchartButtonEl =\n",
              "        document.querySelector('#df-ded7bd6f-8411-443c-8954-23cfb110edef button');\n",
              "      quickchartButtonEl.style.display =\n",
              "        google.colab.kernel.accessAllowed ? 'block' : 'none';\n",
              "    })();\n",
              "  </script>\n",
              "</div>\n",
              "\n",
              "    </div>\n",
              "  </div>\n"
            ],
            "application/vnd.google.colaboratory.intrinsic+json": {
              "type": "dataframe",
              "variable_name": "nigeria_eco_data",
              "summary": "{\n  \"name\": \"nigeria_eco_data\",\n  \"rows\": 244,\n  \"fields\": [\n    {\n      \"column\": \"Date\",\n      \"properties\": {\n        \"dtype\": \"date\",\n        \"min\": \"2004-02-01 00:00:00\",\n        \"max\": \"2024-05-01 00:00:00\",\n        \"num_unique_values\": 244,\n        \"samples\": [\n          \"2006-02-01 00:00:00\",\n          \"2004-08-01 00:00:00\",\n          \"2016-11-01 00:00:00\"\n        ],\n        \"semantic_type\": \"\",\n        \"description\": \"\"\n      }\n    },\n    {\n      \"column\": \"Inflation Rate Per Month\",\n      \"properties\": {\n        \"dtype\": \"number\",\n        \"std\": 0.056138218265488364,\n        \"min\": 0.03,\n        \"max\": 0.3395,\n        \"num_unique_values\": 177,\n        \"samples\": [\n          0.116,\n          0.148,\n          0.1647\n        ],\n        \"semantic_type\": \"\",\n        \"description\": \"\"\n      }\n    },\n    {\n      \"column\": \"Inflation Rate Growth\",\n      \"properties\": {\n        \"dtype\": \"number\",\n        \"std\": 0.11864331103555091,\n        \"min\": -0.647058824,\n        \"max\": 0.702702703,\n        \"num_unique_values\": 231,\n        \"samples\": [\n          0.008550855,\n          -0.054545455,\n          -0.065420561\n        ],\n        \"semantic_type\": \"\",\n        \"description\": \"\"\n      }\n    },\n    {\n      \"column\": \"M1\",\n      \"properties\": {\n        \"dtype\": \"number\",\n        \"std\": 6892388.758169642,\n        \"min\": 1178469.0,\n        \"max\": 33818990.81,\n        \"num_unique_values\": 244,\n        \"samples\": [\n          1394585.6,\n          1243015.0,\n          10432674.72\n        ],\n        \"semantic_type\": \"\",\n        \"description\": \"\"\n      }\n    },\n    {\n      \"column\": \"M1 Growth Rate\",\n      \"properties\": {\n        \"dtype\": \"number\",\n        \"std\": 0.05447772609290972,\n        \"min\": -0.189495154,\n        \"max\": 0.317574482,\n        \"num_unique_values\": 244,\n        \"samples\": [\n          -0.189495154,\n          0.0135596,\n          0.050814797\n        ],\n        \"semantic_type\": \"\",\n        \"description\": \"\"\n      }\n    },\n    {\n      \"column\": \"Stock Price\",\n      \"properties\": {\n        \"dtype\": \"string\",\n        \"num_unique_values\": 244,\n        \"samples\": [\n          \"23,842.99\",\n          \"23,774.27\",\n          \"25,241.63\"\n        ],\n        \"semantic_type\": \"\",\n        \"description\": \"\"\n      }\n    },\n    {\n      \"column\": \"Stock Price Growth\",\n      \"properties\": {\n        \"dtype\": \"number\",\n        \"std\": 0.0007368467363927215,\n        \"min\": -0.003064,\n        \"max\": 0.00382,\n        \"num_unique_values\": 227,\n        \"samples\": [\n          -3.6e-05,\n          0.000267,\n          -0.000325\n        ],\n        \"semantic_type\": \"\",\n        \"description\": \"\"\n      }\n    },\n    {\n      \"column\": \"Naira to USD Exchange Rate\",\n      \"properties\": {\n        \"dtype\": \"string\",\n        \"num_unique_values\": 190,\n        \"samples\": [\n          \"459.97\",\n          \"773\",\n          \"182.9\"\n        ],\n        \"semantic_type\": \"\",\n        \"description\": \"\"\n      }\n    },\n    {\n      \"column\": \"Exchange Rate Growth\",\n      \"properties\": {\n        \"dtype\": \"number\",\n        \"std\": 0.000641269685561531,\n        \"min\": -0.00194,\n        \"max\": 0.006474,\n        \"num_unique_values\": 146,\n        \"samples\": [\n          5.4e-05,\n          0.000782,\n          -3.1e-05\n        ],\n        \"semantic_type\": \"\",\n        \"description\": \"\"\n      }\n    }\n  ]\n}"
            }
          },
          "metadata": {},
          "execution_count": 11
        }
      ]
    },
    {
      "cell_type": "code",
      "source": [
        "nigeria_eco_data.info()"
      ],
      "metadata": {
        "colab": {
          "base_uri": "https://localhost:8080/"
        },
        "id": "y_LmoUNz91aT",
        "outputId": "944b2800-f215-4b0e-aec1-1cf66ae7f6e2"
      },
      "execution_count": null,
      "outputs": [
        {
          "output_type": "stream",
          "name": "stdout",
          "text": [
            "<class 'pandas.core.frame.DataFrame'>\n",
            "RangeIndex: 244 entries, 0 to 243\n",
            "Data columns (total 9 columns):\n",
            " #   Column                      Non-Null Count  Dtype         \n",
            "---  ------                      --------------  -----         \n",
            " 0   Date                        244 non-null    datetime64[ns]\n",
            " 1   Inflation Rate Per Month    244 non-null    float64       \n",
            " 2   Inflation Rate Growth       244 non-null    float64       \n",
            " 3   M1                          244 non-null    float64       \n",
            " 4   M1 Growth Rate              244 non-null    float64       \n",
            " 5   Stock Price                 244 non-null    object        \n",
            " 6   Stock Price Growth          244 non-null    float64       \n",
            " 7   Naira to USD Exchange Rate  244 non-null    object        \n",
            " 8   Exchange Rate Growth        244 non-null    float64       \n",
            "dtypes: datetime64[ns](1), float64(6), object(2)\n",
            "memory usage: 17.3+ KB\n"
          ]
        }
      ]
    },
    {
      "cell_type": "code",
      "source": [
        "nigeria_eco_data.to_csv('Nigeria_Economic_Data.csv', index=False)"
      ],
      "metadata": {
        "id": "_uSnY6W3-Y_k"
      },
      "execution_count": null,
      "outputs": []
    },
    {
      "cell_type": "code",
      "source": [
        "nigeria_eco_data.isnull().sum()"
      ],
      "metadata": {
        "colab": {
          "base_uri": "https://localhost:8080/"
        },
        "id": "VD4qr-AB_KB3",
        "outputId": "09b4050a-af5d-4a64-ca37-a3b54f23e874"
      },
      "execution_count": null,
      "outputs": [
        {
          "output_type": "execute_result",
          "data": {
            "text/plain": [
              "Date                          0\n",
              "Inflation Rate Per Month      0\n",
              "Inflation Rate Growth         0\n",
              "M1                            0\n",
              "M1 Growth Rate                0\n",
              "Stock Price                   0\n",
              "Stock Price Growth            0\n",
              "Naira to USD Exchange Rate    0\n",
              "Exchange Rate Growth          0\n",
              "dtype: int64"
            ]
          },
          "metadata": {},
          "execution_count": 14
        }
      ]
    },
    {
      "cell_type": "markdown",
      "source": [
        "## Correlation Analysis"
      ],
      "metadata": {
        "id": "T19NlmOWQU8U"
      }
    },
    {
      "cell_type": "code",
      "source": [
        "import pandas as pd\n",
        "import seaborn as sns\n",
        "import matplotlib.pyplot as plt\n",
        "import numpy as np"
      ],
      "metadata": {
        "id": "aWseclP0sBHO"
      },
      "execution_count": null,
      "outputs": []
    },
    {
      "cell_type": "code",
      "source": [
        "df = pd.read_csv(\"/content/Nigeria_Economic_Working_Data.csv\")"
      ],
      "metadata": {
        "id": "AFqjhMe6QlBQ"
      },
      "execution_count": null,
      "outputs": []
    },
    {
      "cell_type": "code",
      "source": [
        "df.columns"
      ],
      "metadata": {
        "colab": {
          "base_uri": "https://localhost:8080/"
        },
        "id": "4WydWiVJ4ZjR",
        "outputId": "1df854a0-8145-4888-f3b1-90172b52a790"
      },
      "execution_count": null,
      "outputs": [
        {
          "output_type": "execute_result",
          "data": {
            "text/plain": [
              "Index(['Date', 'Year', 'Inflation Rate Per Month', 'Inflation Rate Growth',\n",
              "       'M1 Value Per Month', 'M1 Growth Rate', 'Stock Price',\n",
              "       'Stock Price Growth', 'Naira to USD Exchange Rate',\n",
              "       'Exchange Rate Growth'],\n",
              "      dtype='object')"
            ]
          },
          "metadata": {},
          "execution_count": 10
        }
      ]
    },
    {
      "cell_type": "code",
      "source": [
        "df.head()"
      ],
      "metadata": {
        "colab": {
          "base_uri": "https://localhost:8080/",
          "height": 224
        },
        "id": "RZkd7QcHsDcd",
        "outputId": "89e9cb1a-4427-4094-c2c3-4c3c51313035"
      },
      "execution_count": null,
      "outputs": [
        {
          "output_type": "execute_result",
          "data": {
            "text/plain": [
              "         Date  Year  Inflation Rate Per Month  Inflation Rate Growth  \\\n",
              "0  01/02/2004  2004                      0.25               0.107143   \n",
              "1  01/03/2004  2004                      0.23              -0.092742   \n",
              "2  01/04/2004  2004                      0.18              -0.222222   \n",
              "3  01/05/2004  2004                      0.20               0.131429   \n",
              "4  01/06/2004  2004                      0.14              -0.287879   \n",
              "\n",
              "   M1 Value Per Month  M1 Growth Rate  Stock Price  Stock Price Growth  \\\n",
              "0           1188048.7        0.059599     25169.20            0.001098   \n",
              "1           1201540.2        0.011356     22800.41           -0.000941   \n",
              "2           1178469.0       -0.019201     25792.97            0.001313   \n",
              "3           1187078.6        0.007306     27730.84            0.000751   \n",
              "4           1214834.9        0.023382     28887.41            0.000417   \n",
              "\n",
              "   Naira to USD Exchange Rate  Exchange Rate Growth  \n",
              "0                     136.400             -0.000044  \n",
              "1                     132.000             -0.000323  \n",
              "2                     133.125              0.000085  \n",
              "3                     133.400              0.000021  \n",
              "4                     132.750             -0.000049  "
            ],
            "text/html": [
              "\n",
              "  <div id=\"df-02e81ff3-7679-4221-8d8e-193fc0624401\" class=\"colab-df-container\">\n",
              "    <div>\n",
              "<style scoped>\n",
              "    .dataframe tbody tr th:only-of-type {\n",
              "        vertical-align: middle;\n",
              "    }\n",
              "\n",
              "    .dataframe tbody tr th {\n",
              "        vertical-align: top;\n",
              "    }\n",
              "\n",
              "    .dataframe thead th {\n",
              "        text-align: right;\n",
              "    }\n",
              "</style>\n",
              "<table border=\"1\" class=\"dataframe\">\n",
              "  <thead>\n",
              "    <tr style=\"text-align: right;\">\n",
              "      <th></th>\n",
              "      <th>Date</th>\n",
              "      <th>Year</th>\n",
              "      <th>Inflation Rate Per Month</th>\n",
              "      <th>Inflation Rate Growth</th>\n",
              "      <th>M1 Value Per Month</th>\n",
              "      <th>M1 Growth Rate</th>\n",
              "      <th>Stock Price</th>\n",
              "      <th>Stock Price Growth</th>\n",
              "      <th>Naira to USD Exchange Rate</th>\n",
              "      <th>Exchange Rate Growth</th>\n",
              "    </tr>\n",
              "  </thead>\n",
              "  <tbody>\n",
              "    <tr>\n",
              "      <th>0</th>\n",
              "      <td>01/02/2004</td>\n",
              "      <td>2004</td>\n",
              "      <td>0.25</td>\n",
              "      <td>0.107143</td>\n",
              "      <td>1188048.7</td>\n",
              "      <td>0.059599</td>\n",
              "      <td>25169.20</td>\n",
              "      <td>0.001098</td>\n",
              "      <td>136.400</td>\n",
              "      <td>-0.000044</td>\n",
              "    </tr>\n",
              "    <tr>\n",
              "      <th>1</th>\n",
              "      <td>01/03/2004</td>\n",
              "      <td>2004</td>\n",
              "      <td>0.23</td>\n",
              "      <td>-0.092742</td>\n",
              "      <td>1201540.2</td>\n",
              "      <td>0.011356</td>\n",
              "      <td>22800.41</td>\n",
              "      <td>-0.000941</td>\n",
              "      <td>132.000</td>\n",
              "      <td>-0.000323</td>\n",
              "    </tr>\n",
              "    <tr>\n",
              "      <th>2</th>\n",
              "      <td>01/04/2004</td>\n",
              "      <td>2004</td>\n",
              "      <td>0.18</td>\n",
              "      <td>-0.222222</td>\n",
              "      <td>1178469.0</td>\n",
              "      <td>-0.019201</td>\n",
              "      <td>25792.97</td>\n",
              "      <td>0.001313</td>\n",
              "      <td>133.125</td>\n",
              "      <td>0.000085</td>\n",
              "    </tr>\n",
              "    <tr>\n",
              "      <th>3</th>\n",
              "      <td>01/05/2004</td>\n",
              "      <td>2004</td>\n",
              "      <td>0.20</td>\n",
              "      <td>0.131429</td>\n",
              "      <td>1187078.6</td>\n",
              "      <td>0.007306</td>\n",
              "      <td>27730.84</td>\n",
              "      <td>0.000751</td>\n",
              "      <td>133.400</td>\n",
              "      <td>0.000021</td>\n",
              "    </tr>\n",
              "    <tr>\n",
              "      <th>4</th>\n",
              "      <td>01/06/2004</td>\n",
              "      <td>2004</td>\n",
              "      <td>0.14</td>\n",
              "      <td>-0.287879</td>\n",
              "      <td>1214834.9</td>\n",
              "      <td>0.023382</td>\n",
              "      <td>28887.41</td>\n",
              "      <td>0.000417</td>\n",
              "      <td>132.750</td>\n",
              "      <td>-0.000049</td>\n",
              "    </tr>\n",
              "  </tbody>\n",
              "</table>\n",
              "</div>\n",
              "    <div class=\"colab-df-buttons\">\n",
              "\n",
              "  <div class=\"colab-df-container\">\n",
              "    <button class=\"colab-df-convert\" onclick=\"convertToInteractive('df-02e81ff3-7679-4221-8d8e-193fc0624401')\"\n",
              "            title=\"Convert this dataframe to an interactive table.\"\n",
              "            style=\"display:none;\">\n",
              "\n",
              "  <svg xmlns=\"http://www.w3.org/2000/svg\" height=\"24px\" viewBox=\"0 -960 960 960\">\n",
              "    <path d=\"M120-120v-720h720v720H120Zm60-500h600v-160H180v160Zm220 220h160v-160H400v160Zm0 220h160v-160H400v160ZM180-400h160v-160H180v160Zm440 0h160v-160H620v160ZM180-180h160v-160H180v160Zm440 0h160v-160H620v160Z\"/>\n",
              "  </svg>\n",
              "    </button>\n",
              "\n",
              "  <style>\n",
              "    .colab-df-container {\n",
              "      display:flex;\n",
              "      gap: 12px;\n",
              "    }\n",
              "\n",
              "    .colab-df-convert {\n",
              "      background-color: #E8F0FE;\n",
              "      border: none;\n",
              "      border-radius: 50%;\n",
              "      cursor: pointer;\n",
              "      display: none;\n",
              "      fill: #1967D2;\n",
              "      height: 32px;\n",
              "      padding: 0 0 0 0;\n",
              "      width: 32px;\n",
              "    }\n",
              "\n",
              "    .colab-df-convert:hover {\n",
              "      background-color: #E2EBFA;\n",
              "      box-shadow: 0px 1px 2px rgba(60, 64, 67, 0.3), 0px 1px 3px 1px rgba(60, 64, 67, 0.15);\n",
              "      fill: #174EA6;\n",
              "    }\n",
              "\n",
              "    .colab-df-buttons div {\n",
              "      margin-bottom: 4px;\n",
              "    }\n",
              "\n",
              "    [theme=dark] .colab-df-convert {\n",
              "      background-color: #3B4455;\n",
              "      fill: #D2E3FC;\n",
              "    }\n",
              "\n",
              "    [theme=dark] .colab-df-convert:hover {\n",
              "      background-color: #434B5C;\n",
              "      box-shadow: 0px 1px 3px 1px rgba(0, 0, 0, 0.15);\n",
              "      filter: drop-shadow(0px 1px 2px rgba(0, 0, 0, 0.3));\n",
              "      fill: #FFFFFF;\n",
              "    }\n",
              "  </style>\n",
              "\n",
              "    <script>\n",
              "      const buttonEl =\n",
              "        document.querySelector('#df-02e81ff3-7679-4221-8d8e-193fc0624401 button.colab-df-convert');\n",
              "      buttonEl.style.display =\n",
              "        google.colab.kernel.accessAllowed ? 'block' : 'none';\n",
              "\n",
              "      async function convertToInteractive(key) {\n",
              "        const element = document.querySelector('#df-02e81ff3-7679-4221-8d8e-193fc0624401');\n",
              "        const dataTable =\n",
              "          await google.colab.kernel.invokeFunction('convertToInteractive',\n",
              "                                                    [key], {});\n",
              "        if (!dataTable) return;\n",
              "\n",
              "        const docLinkHtml = 'Like what you see? Visit the ' +\n",
              "          '<a target=\"_blank\" href=https://colab.research.google.com/notebooks/data_table.ipynb>data table notebook</a>'\n",
              "          + ' to learn more about interactive tables.';\n",
              "        element.innerHTML = '';\n",
              "        dataTable['output_type'] = 'display_data';\n",
              "        await google.colab.output.renderOutput(dataTable, element);\n",
              "        const docLink = document.createElement('div');\n",
              "        docLink.innerHTML = docLinkHtml;\n",
              "        element.appendChild(docLink);\n",
              "      }\n",
              "    </script>\n",
              "  </div>\n",
              "\n",
              "\n",
              "<div id=\"df-301eec58-9285-4e1d-b85c-06c6f8a13d1f\">\n",
              "  <button class=\"colab-df-quickchart\" onclick=\"quickchart('df-301eec58-9285-4e1d-b85c-06c6f8a13d1f')\"\n",
              "            title=\"Suggest charts\"\n",
              "            style=\"display:none;\">\n",
              "\n",
              "<svg xmlns=\"http://www.w3.org/2000/svg\" height=\"24px\"viewBox=\"0 0 24 24\"\n",
              "     width=\"24px\">\n",
              "    <g>\n",
              "        <path d=\"M19 3H5c-1.1 0-2 .9-2 2v14c0 1.1.9 2 2 2h14c1.1 0 2-.9 2-2V5c0-1.1-.9-2-2-2zM9 17H7v-7h2v7zm4 0h-2V7h2v10zm4 0h-2v-4h2v4z\"/>\n",
              "    </g>\n",
              "</svg>\n",
              "  </button>\n",
              "\n",
              "<style>\n",
              "  .colab-df-quickchart {\n",
              "      --bg-color: #E8F0FE;\n",
              "      --fill-color: #1967D2;\n",
              "      --hover-bg-color: #E2EBFA;\n",
              "      --hover-fill-color: #174EA6;\n",
              "      --disabled-fill-color: #AAA;\n",
              "      --disabled-bg-color: #DDD;\n",
              "  }\n",
              "\n",
              "  [theme=dark] .colab-df-quickchart {\n",
              "      --bg-color: #3B4455;\n",
              "      --fill-color: #D2E3FC;\n",
              "      --hover-bg-color: #434B5C;\n",
              "      --hover-fill-color: #FFFFFF;\n",
              "      --disabled-bg-color: #3B4455;\n",
              "      --disabled-fill-color: #666;\n",
              "  }\n",
              "\n",
              "  .colab-df-quickchart {\n",
              "    background-color: var(--bg-color);\n",
              "    border: none;\n",
              "    border-radius: 50%;\n",
              "    cursor: pointer;\n",
              "    display: none;\n",
              "    fill: var(--fill-color);\n",
              "    height: 32px;\n",
              "    padding: 0;\n",
              "    width: 32px;\n",
              "  }\n",
              "\n",
              "  .colab-df-quickchart:hover {\n",
              "    background-color: var(--hover-bg-color);\n",
              "    box-shadow: 0 1px 2px rgba(60, 64, 67, 0.3), 0 1px 3px 1px rgba(60, 64, 67, 0.15);\n",
              "    fill: var(--button-hover-fill-color);\n",
              "  }\n",
              "\n",
              "  .colab-df-quickchart-complete:disabled,\n",
              "  .colab-df-quickchart-complete:disabled:hover {\n",
              "    background-color: var(--disabled-bg-color);\n",
              "    fill: var(--disabled-fill-color);\n",
              "    box-shadow: none;\n",
              "  }\n",
              "\n",
              "  .colab-df-spinner {\n",
              "    border: 2px solid var(--fill-color);\n",
              "    border-color: transparent;\n",
              "    border-bottom-color: var(--fill-color);\n",
              "    animation:\n",
              "      spin 1s steps(1) infinite;\n",
              "  }\n",
              "\n",
              "  @keyframes spin {\n",
              "    0% {\n",
              "      border-color: transparent;\n",
              "      border-bottom-color: var(--fill-color);\n",
              "      border-left-color: var(--fill-color);\n",
              "    }\n",
              "    20% {\n",
              "      border-color: transparent;\n",
              "      border-left-color: var(--fill-color);\n",
              "      border-top-color: var(--fill-color);\n",
              "    }\n",
              "    30% {\n",
              "      border-color: transparent;\n",
              "      border-left-color: var(--fill-color);\n",
              "      border-top-color: var(--fill-color);\n",
              "      border-right-color: var(--fill-color);\n",
              "    }\n",
              "    40% {\n",
              "      border-color: transparent;\n",
              "      border-right-color: var(--fill-color);\n",
              "      border-top-color: var(--fill-color);\n",
              "    }\n",
              "    60% {\n",
              "      border-color: transparent;\n",
              "      border-right-color: var(--fill-color);\n",
              "    }\n",
              "    80% {\n",
              "      border-color: transparent;\n",
              "      border-right-color: var(--fill-color);\n",
              "      border-bottom-color: var(--fill-color);\n",
              "    }\n",
              "    90% {\n",
              "      border-color: transparent;\n",
              "      border-bottom-color: var(--fill-color);\n",
              "    }\n",
              "  }\n",
              "</style>\n",
              "\n",
              "  <script>\n",
              "    async function quickchart(key) {\n",
              "      const quickchartButtonEl =\n",
              "        document.querySelector('#' + key + ' button');\n",
              "      quickchartButtonEl.disabled = true;  // To prevent multiple clicks.\n",
              "      quickchartButtonEl.classList.add('colab-df-spinner');\n",
              "      try {\n",
              "        const charts = await google.colab.kernel.invokeFunction(\n",
              "            'suggestCharts', [key], {});\n",
              "      } catch (error) {\n",
              "        console.error('Error during call to suggestCharts:', error);\n",
              "      }\n",
              "      quickchartButtonEl.classList.remove('colab-df-spinner');\n",
              "      quickchartButtonEl.classList.add('colab-df-quickchart-complete');\n",
              "    }\n",
              "    (() => {\n",
              "      let quickchartButtonEl =\n",
              "        document.querySelector('#df-301eec58-9285-4e1d-b85c-06c6f8a13d1f button');\n",
              "      quickchartButtonEl.style.display =\n",
              "        google.colab.kernel.accessAllowed ? 'block' : 'none';\n",
              "    })();\n",
              "  </script>\n",
              "</div>\n",
              "\n",
              "    </div>\n",
              "  </div>\n"
            ],
            "application/vnd.google.colaboratory.intrinsic+json": {
              "type": "dataframe",
              "variable_name": "df",
              "summary": "{\n  \"name\": \"df\",\n  \"rows\": 244,\n  \"fields\": [\n    {\n      \"column\": \"Date\",\n      \"properties\": {\n        \"dtype\": \"object\",\n        \"num_unique_values\": 244,\n        \"samples\": [\n          \"01/02/2006\",\n          \"01/08/2004\",\n          \"01/11/2016\"\n        ],\n        \"semantic_type\": \"\",\n        \"description\": \"\"\n      }\n    },\n    {\n      \"column\": \"Year\",\n      \"properties\": {\n        \"dtype\": \"number\",\n        \"std\": 5,\n        \"min\": 2004,\n        \"max\": 2024,\n        \"num_unique_values\": 21,\n        \"samples\": [\n          2004,\n          2021,\n          2019\n        ],\n        \"semantic_type\": \"\",\n        \"description\": \"\"\n      }\n    },\n    {\n      \"column\": \"Inflation Rate Per Month\",\n      \"properties\": {\n        \"dtype\": \"number\",\n        \"std\": 0.05630968128515686,\n        \"min\": 0.03,\n        \"max\": 0.34,\n        \"num_unique_values\": 31,\n        \"samples\": [\n          0.3,\n          0.15,\n          0.21\n        ],\n        \"semantic_type\": \"\",\n        \"description\": \"\"\n      }\n    },\n    {\n      \"column\": \"Inflation Rate Growth\",\n      \"properties\": {\n        \"dtype\": \"number\",\n        \"std\": 0.11864331082142017,\n        \"min\": -0.64705882,\n        \"max\": 0.7027027,\n        \"num_unique_values\": 231,\n        \"samples\": [\n          0.00855086,\n          -0.05454546,\n          -0.06542056\n        ],\n        \"semantic_type\": \"\",\n        \"description\": \"\"\n      }\n    },\n    {\n      \"column\": \"M1 Value Per Month\",\n      \"properties\": {\n        \"dtype\": \"number\",\n        \"std\": 6892388.758169642,\n        \"min\": 1178469.0,\n        \"max\": 33818990.81,\n        \"num_unique_values\": 244,\n        \"samples\": [\n          1394585.6,\n          1243015.0,\n          10432674.72\n        ],\n        \"semantic_type\": \"\",\n        \"description\": \"\"\n      }\n    },\n    {\n      \"column\": \"M1 Growth Rate\",\n      \"properties\": {\n        \"dtype\": \"number\",\n        \"std\": 0.05447772628910911,\n        \"min\": -0.18949515,\n        \"max\": 0.31757448,\n        \"num_unique_values\": 244,\n        \"samples\": [\n          -0.18949515,\n          0.0135596,\n          0.0508148\n        ],\n        \"semantic_type\": \"\",\n        \"description\": \"\"\n      }\n    },\n    {\n      \"column\": \"Stock Price\",\n      \"properties\": {\n        \"dtype\": \"number\",\n        \"std\": 15030.090175708845,\n        \"min\": 19851.89,\n        \"max\": 104562.06,\n        \"num_unique_values\": 244,\n        \"samples\": [\n          23842.99,\n          23774.27,\n          25241.63\n        ],\n        \"semantic_type\": \"\",\n        \"description\": \"\"\n      }\n    },\n    {\n      \"column\": \"Stock Price Growth\",\n      \"properties\": {\n        \"dtype\": \"number\",\n        \"std\": 0.0007368467363927215,\n        \"min\": -0.003064,\n        \"max\": 0.00382,\n        \"num_unique_values\": 227,\n        \"samples\": [\n          -3.6e-05,\n          0.000267,\n          -0.000325\n        ],\n        \"semantic_type\": \"\",\n        \"description\": \"\"\n      }\n    },\n    {\n      \"column\": \"Naira to USD Exchange Rate\",\n      \"properties\": {\n        \"dtype\": \"number\",\n        \"std\": 216.44600504117594,\n        \"min\": 117.025,\n        \"max\": 1616.55,\n        \"num_unique_values\": 190,\n        \"samples\": [\n          459.97,\n          773.0,\n          182.9\n        ],\n        \"semantic_type\": \"\",\n        \"description\": \"\"\n      }\n    },\n    {\n      \"column\": \"Exchange Rate Growth\",\n      \"properties\": {\n        \"dtype\": \"number\",\n        \"std\": 0.000641269685561531,\n        \"min\": -0.00194,\n        \"max\": 0.006474,\n        \"num_unique_values\": 146,\n        \"samples\": [\n          5.4e-05,\n          0.000782,\n          -3.1e-05\n        ],\n        \"semantic_type\": \"\",\n        \"description\": \"\"\n      }\n    }\n  ]\n}"
            }
          },
          "metadata": {},
          "execution_count": 4
        }
      ]
    },
    {
      "cell_type": "code",
      "source": [
        "df.info()"
      ],
      "metadata": {
        "colab": {
          "base_uri": "https://localhost:8080/"
        },
        "id": "fkcrvkDluIk0",
        "outputId": "3bfb0e77-92b2-4eec-95a4-032fd87204a2"
      },
      "execution_count": null,
      "outputs": [
        {
          "output_type": "stream",
          "name": "stdout",
          "text": [
            "<class 'pandas.core.frame.DataFrame'>\n",
            "RangeIndex: 244 entries, 0 to 243\n",
            "Data columns (total 10 columns):\n",
            " #   Column                      Non-Null Count  Dtype  \n",
            "---  ------                      --------------  -----  \n",
            " 0   Date                        244 non-null    object \n",
            " 1   Year                        244 non-null    int64  \n",
            " 2   Inflation Rate Per Month    244 non-null    float64\n",
            " 3   Inflation Rate Growth       244 non-null    float64\n",
            " 4   M1 Value Per Month          244 non-null    float64\n",
            " 5   M1 Growth Rate              244 non-null    float64\n",
            " 6   Stock Price                 244 non-null    float64\n",
            " 7   Stock Price Growth          244 non-null    float64\n",
            " 8   Naira to USD Exchange Rate  244 non-null    float64\n",
            " 9   Exchange Rate Growth        244 non-null    float64\n",
            "dtypes: float64(8), int64(1), object(1)\n",
            "memory usage: 19.2+ KB\n"
          ]
        }
      ]
    },
    {
      "cell_type": "code",
      "source": [
        "# Correlation Matrix\n",
        "plt.figure(figsize=(10, 8))\n",
        "correlation_matrix = df[['Inflation Rate Per Month', 'Inflation Rate Growth', 'M1 Value Per Month', 'M1 Growth Rate', 'Stock Price', 'Stock Price Growth', 'Naira to USD Exchange Rate']].corr()\n",
        "sns.heatmap(correlation_matrix, annot=True, cmap='coolwarm')\n",
        "plt.title('Correlation between Economic Variables', weight='bold')\n",
        "plt.yticks(rotation=0)\n",
        "plt.show()"
      ],
      "metadata": {
        "colab": {
          "base_uri": "https://localhost:8080/",
          "height": 883
        },
        "id": "ddvPDO0xtdA9",
        "outputId": "19ced2a8-3821-4dd3-f394-a7604af4b324"
      },
      "execution_count": null,
      "outputs": [
        {
          "output_type": "display_data",
          "data": {
            "text/plain": [
              "<Figure size 1000x800 with 2 Axes>"
            ],
            "image/png": "[encoded data removed]"
          },
          "metadata": {}
        }
      ]
    },
    {
      "cell_type": "markdown",
      "source": [
        "## Productivity Model\n"
      ],
      "metadata": {
        "id": "HhfR0q6GO_R1"
      }
    },
    {
      "cell_type": "code",
      "source": [
        "from datetime import datetime"
      ],
      "metadata": {
        "id": "WNtBK_29XKBh"
      },
      "execution_count": null,
      "outputs": []
    },
    {
      "cell_type": "code",
      "source": [
        "# Convert Date to datetime\n",
        "df['Date'] = pd.to_datetime(df['Date'], dayfirst=True)"
      ],
      "metadata": {
        "id": "jzOTVJQoXUYe"
      },
      "execution_count": null,
      "outputs": []
    },
    {
      "cell_type": "code",
      "source": [
        "# Normalise the variables\n",
        "df['Normalised_Inflation_Growth'] = (df['Inflation Rate Growth'] - df['Inflation Rate Growth'].min()) / (df['Inflation Rate Growth'].max() - df['Inflation Rate Growth'].min())\n",
        "df['Normalised_Stock_Price_Growth'] = (df['Stock Price Growth'] - df['Stock Price Growth'].min()) / (df['Stock Price Growth'].max() - df['Stock Price Growth'].min())\n",
        "df['Normalised_Exchange_Rate_Growth'] = (df['Exchange Rate Growth'] - df['Exchange Rate Growth'].min()) / (df['Exchange Rate Growth'].max() - df['Exchange Rate Growth'].min())"
      ],
      "metadata": {
        "id": "xWle03_tTcX4"
      },
      "execution_count": null,
      "outputs": []
    },
    {
      "cell_type": "code",
      "source": [
        "df.columns"
      ],
      "metadata": {
        "colab": {
          "base_uri": "https://localhost:8080/"
        },
        "id": "bJpU-jSyPD7a",
        "outputId": "49ba406d-52be-4c50-b5a3-3727de569173"
      },
      "execution_count": null,
      "outputs": [
        {
          "output_type": "execute_result",
          "data": {
            "text/plain": [
              "Index(['Date', 'Year', 'Inflation Rate Per Month', 'Inflation Rate Growth',\n",
              "       'M1 Value Per Month', 'M1 Growth Rate', 'Stock Price',\n",
              "       'Stock Price Growth', 'Naira to USD Exchange Rate',\n",
              "       'Exchange Rate Growth', 'Normalised_Inflation_Growth',\n",
              "       'Normalised_Stock_Price_Growth', 'Normalised_Exchange_Rate_Growth'],\n",
              "      dtype='object')"
            ]
          },
          "metadata": {},
          "execution_count": 16
        }
      ]
    },
    {
      "cell_type": "code",
      "source": [
        "# Calculate Productivity Index\n",
        "df['Productivity_Index'] = (df['Normalised_Inflation_Growth'] + df['Normalised_Stock_Price_Growth'] + df['Normalised_Exchange_Rate_Growth']) / 3"
      ],
      "metadata": {
        "id": "7wXBxNijVTXD"
      },
      "execution_count": null,
      "outputs": []
    },
    {
      "cell_type": "code",
      "source": [
        "df.isnull().sum()"
      ],
      "metadata": {
        "colab": {
          "base_uri": "https://localhost:8080/"
        },
        "id": "h4e0ceBeV9DY",
        "outputId": "eb4d9a76-42f2-4013-8dc1-755090a2cdf3"
      },
      "execution_count": null,
      "outputs": [
        {
          "output_type": "execute_result",
          "data": {
            "text/plain": [
              "Date                               0\n",
              "Year                               0\n",
              "Inflation Rate Per Month           0\n",
              "Inflation Rate Growth              0\n",
              "M1 Value Per Month                 0\n",
              "M1 Growth Rate                     0\n",
              "Stock Price                        0\n",
              "Stock Price Growth                 0\n",
              "Naira to USD Exchange Rate         0\n",
              "Exchange Rate Growth               0\n",
              "Normalised_Inflation_Growth        0\n",
              "Normalised_Stock_Price_Growth      0\n",
              "Normalised_Exchange_Rate_Growth    0\n",
              "Productivity_Index                 0\n",
              "dtype: int64"
            ]
          },
          "metadata": {},
          "execution_count": 22
        }
      ]
    },
    {
      "cell_type": "code",
      "source": [
        "# Plot Date against Productivity Index\n",
        "plt.figure(figsize=(12, 6))\n",
        "plt.plot(df['Date'], df['Productivity_Index'], label='Productivity Index')\n",
        "\n",
        "# Add trendline (straightline with polynomial degree of 1)\n",
        "# z contains coefficients of this polynomial\n",
        "z = np.polyfit(df['Date'].map(datetime.toordinal), df['Productivity_Index'], 1)\n",
        "\n",
        "# Create polynomial function from coefficients and plot trendline\n",
        "p = np.poly1d(z)\n",
        "plt.plot(df['Date'], p(df['Date'].map(datetime.toordinal)), \"r--\", label='Trendline')\n",
        "\n",
        "# Customize x-axis labels\n",
        "plt.xlabel('Date', fontsize=16)\n",
        "plt.ylabel('Productivity Index', fontsize=16)\n",
        "plt.title('Productivity Index Over Time', weight='bold', fontsize=18)\n",
        "plt.xticks(rotation=45)\n",
        "plt.legend(fontsize=14)\n",
        "plt.grid(True)\n",
        "plt.tight_layout()\n",
        "plt.show()"
      ],
      "metadata": {
        "colab": {
          "base_uri": "https://localhost:8080/",
          "height": 607
        },
        "id": "wwezdD0lXDmi",
        "outputId": "f57c3fb4-8093-4115-9987-a55ffbb4df0f"
      },
      "execution_count": null,
      "outputs": [
        {
          "output_type": "display_data",
          "data": {
            "text/plain": [
              "<Figure size 1200x600 with 1 Axes>"
            ],
            "image/png": "[encoded data removed]"
          },
          "metadata": {}
        }
      ]
    },
    {
      "cell_type": "code",
      "source": [
        "# Print trend slope\n",
        "# Slope is first value in coefficients array\n",
        "print(f\"Trend Slope: {z[0]:.7f}\")"
      ],
      "metadata": {
        "colab": {
          "base_uri": "https://localhost:8080/"
        },
        "id": "nY76_J5BZWp-",
        "outputId": "7b610450-b615-499a-c947-9606b4ad0f00"
      },
      "execution_count": null,
      "outputs": [
        {
          "output_type": "stream",
          "name": "stdout",
          "text": [
            "Trend Slope: 0.0000037\n"
          ]
        }
      ]
    },
    {
      "cell_type": "markdown",
      "source": [
        "## Currency Devaluation\n"
      ],
      "metadata": {
        "id": "MLIbOeLTZFjJ"
      }
    },
    {
      "cell_type": "code",
      "source": [
        "import pandas as pd\n",
        "import seaborn as sns\n",
        "import matplotlib.pyplot as plt\n",
        "import numpy as np"
      ],
      "metadata": {
        "id": "mNINAoxIZJQA"
      },
      "execution_count": null,
      "outputs": []
    },
    {
      "cell_type": "code",
      "source": [
        "curr_df = pd.read_csv(\"/content/Currency_Devaluation_Data.csv\")"
      ],
      "metadata": {
        "id": "Z6XOxPsKZqwE"
      },
      "execution_count": null,
      "outputs": []
    },
    {
      "cell_type": "code",
      "source": [
        "curr_df.columns"
      ],
      "metadata": {
        "colab": {
          "base_uri": "https://localhost:8080/"
        },
        "id": "jsskNmd6chI6",
        "outputId": "55a0e39b-3fae-4a9f-b44c-5ba7f7399991"
      },
      "execution_count": null,
      "outputs": [
        {
          "output_type": "execute_result",
          "data": {
            "text/plain": [
              "Index(['Date', 'Year', 'Nigeria Inflation Rate Per Month',\n",
              "       'USA Inflation Rate Per Month', 'Naira to USD Exchange Rate'],\n",
              "      dtype='object')"
            ]
          },
          "metadata": {},
          "execution_count": 6
        }
      ]
    },
    {
      "cell_type": "code",
      "source": [
        "# Adjust Exchange Rate for Inflation\n",
        "curr_df['Adjusted_Exchange_Rate'] = (curr_df['Naira to USD Exchange Rate'] * (1 + curr_df['Nigeria Inflation Rate Per Month'])) / (1 + curr_df['USA Inflation Rate Per Month'])\n"
      ],
      "metadata": {
        "id": "em7AsWaraaHn"
      },
      "execution_count": null,
      "outputs": []
    },
    {
      "cell_type": "code",
      "source": [
        "# Normalize Exchange Rate\n",
        "base_year = 2004\n",
        "base_rate = curr_df[curr_df['Year'] == base_year]['Adjusted_Exchange_Rate'].iloc[0]\n",
        "curr_df['Normalized_Exchange_Rate'] = curr_df['Adjusted_Exchange_Rate'] / base_rate"
      ],
      "metadata": {
        "id": "jBseJyASdiP9"
      },
      "execution_count": null,
      "outputs": []
    },
    {
      "cell_type": "code",
      "source": [
        "curr_df['Real_Devaluation'] = curr_df['Normalized_Exchange_Rate'].pct_change()"
      ],
      "metadata": {
        "id": "G5IfHJgJemEz"
      },
      "execution_count": null,
      "outputs": []
    },
    {
      "cell_type": "code",
      "source": [
        "curr_df.to_csv('Naira_USD_Currency_Devaluation.csv', index=False)"
      ],
      "metadata": {
        "id": "LXRb4IVffu0Y"
      },
      "execution_count": null,
      "outputs": []
    }
  ]
}